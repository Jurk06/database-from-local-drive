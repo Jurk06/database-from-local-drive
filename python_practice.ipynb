{
  "nbformat": 4,
  "nbformat_minor": 0,
  "metadata": {
    "colab": {
      "name": "python_practice.ipynb",
      "provenance": []
    },
    "kernelspec": {
      "name": "python3",
      "display_name": "Python 3"
    }
  },
  "cells": [
    {
      "cell_type": "code",
      "metadata": {
        "colab": {
          "base_uri": "https://localhost:8080/"
        },
        "id": "vBH73Yl-vd_j",
        "outputId": "ccbed23a-4ed9-41cf-9f7b-988105bee5b5"
      },
      "source": [
        "n=int(input(\"Enter a num :\"))\r\n",
        "if(n%2==0):\r\n",
        "  print(\"{0} is even number\".format(n))\r\n",
        "else:\r\n",
        "  print(\"{0} is an odd number\".format(n))"
      ],
      "execution_count": null,
      "outputs": [
        {
          "output_type": "stream",
          "text": [
            "Enter a num :8\n",
            "8 is even number\n"
          ],
          "name": "stdout"
        }
      ]
    },
    {
      "cell_type": "code",
      "metadata": {
        "colab": {
          "base_uri": "https://localhost:8080/"
        },
        "id": "bdaCJjXMwKuN",
        "outputId": "001ba80a-ffba-40fe-e4ac-88ddf4d39621"
      },
      "source": [
        "fact=1\r\n",
        "num=7\r\n",
        "if num<0:\r\n",
        "  print(\"sorry, factorials not exist\")\r\n",
        "elif num==0:\r\n",
        "  print(\"The facorials of 0 is 1\")\r\n",
        "else:\r\n",
        "  for i in range(1, num+1):\r\n",
        "    fact=fact*1\r\n",
        "  print(\"the fact of \", num,\"is\", fact)\r\n"
      ],
      "execution_count": null,
      "outputs": [
        {
          "output_type": "stream",
          "text": [
            "the fact of  7 is 1\n"
          ],
          "name": "stdout"
        }
      ]
    },
    {
      "cell_type": "code",
      "metadata": {
        "colab": {
          "base_uri": "https://localhost:8080/"
        },
        "id": "vz7WZnga1Jkw",
        "outputId": "e4721325-4a40-4501-e920-5f27a54e50b7"
      },
      "source": [
        "n=7\r\n",
        "fact=1\r\n",
        "if n<0:\r\n",
        "  print(\"nill\")\r\n",
        "elif n==0:\r\n",
        "  print(\"The factorials of 0 is 1\")\r\n",
        "else:\r\n",
        "  for i in range(1,n+1):\r\n",
        "    fact=fact*i\r\n",
        "  print(\"the factorials of\", n, \"is\", fact)"
      ],
      "execution_count": null,
      "outputs": [
        {
          "output_type": "stream",
          "text": [
            "the factorials of 7 is 5040\n"
          ],
          "name": "stdout"
        }
      ]
    },
    {
      "cell_type": "code",
      "metadata": {
        "colab": {
          "base_uri": "https://localhost:8080/"
        },
        "id": "YNEkMfR92Ze9",
        "outputId": "13640d87-b477-44b9-b582-6d5b719bc939"
      },
      "source": [
        "n=4\r\n",
        "f=1\r\n",
        "if n==0:\r\n",
        "  print(\"nill\")\r\n",
        "else:\r\n",
        "  for i in range(1, n+1):\r\n",
        "    f=f*i\r\n",
        "  print(\"factorials\",n,\"is\" ,f)"
      ],
      "execution_count": null,
      "outputs": [
        {
          "output_type": "stream",
          "text": [
            "factorials 4 is 24\n"
          ],
          "name": "stdout"
        }
      ]
    },
    {
      "cell_type": "code",
      "metadata": {
        "id": "RgOfkS-s3tlT",
        "colab": {
          "base_uri": "https://localhost:8080/"
        },
        "outputId": "e7dd8141-504d-41ad-a8d7-fa7fabb4e39f"
      },
      "source": [
        "n\r\n",
        "f=1\r\n",
        "if n==0:\r\n",
        "  print(\"nill\")\r\n",
        "else:\r\n",
        "  for i in range(1, n+1):\r\n",
        "    f=f*i\r\n",
        "  print(\"factorials\",n,\"is\" ,f)"
      ],
      "execution_count": 12,
      "outputs": [
        {
          "output_type": "stream",
          "text": [
            "factorials 4 is 24\n"
          ],
          "name": "stdout"
        }
      ]
    },
    {
      "cell_type": "code",
      "metadata": {
        "colab": {
          "base_uri": "https://localhost:8080/"
        },
        "id": "PAMblqZz5kHr",
        "outputId": "e746760e-a649-41a9-9922-2d1afe1c7841"
      },
      "source": [
        "n=4\r\n",
        "f=1\r\n",
        "if n==0:\r\n",
        "  print(\"nill\")\r\n",
        "else:\r\n",
        "  for i in range(1, n+1):\r\n",
        "    f=f*i\r\n",
        "  print(\"factorials\",n,\"is\" ,f)"
      ],
      "execution_count": 13,
      "outputs": [
        {
          "output_type": "stream",
          "text": [
            "factorials 4 is 24\n"
          ],
          "name": "stdout"
        }
      ]
    },
    {
      "cell_type": "code",
      "metadata": {
        "colab": {
          "base_uri": "https://localhost:8080/"
        },
        "id": "eoql2jDs5oZP",
        "outputId": "00b7142b-0965-4dd6-8ba6-40c8e7471d89"
      },
      "source": [
        "num=int(input(\"How many terms?\"))\r\n",
        "n1, n2=0,1\r\n",
        "sum=0\r\n",
        "if num<0:\r\n",
        "  print(\"Please enter the possitive number\")\r\n",
        "elif num==1:\r\n",
        "  print(\"fibbnocci series of \", num, \":\")\r\n",
        "  print(n1)\r\n",
        "else:\r\n",
        "  print(\"fibbnocci series: \")\r\n",
        "  while sum<num:\r\n",
        "    print(n1)\r\n",
        "    nth=n1+n2\r\n",
        "    n1=n2\r\n",
        "    n2=nth\r\n",
        "    sum+=1\r\n"
      ],
      "execution_count": 14,
      "outputs": [
        {
          "output_type": "stream",
          "text": [
            "How many terms?8\n",
            "fibbnocci series: \n",
            "0\n",
            "1\n",
            "1\n",
            "2\n",
            "3\n",
            "5\n",
            "8\n",
            "13\n"
          ],
          "name": "stdout"
        }
      ]
    },
    {
      "cell_type": "code",
      "metadata": {
        "colab": {
          "base_uri": "https://localhost:8080/"
        },
        "id": "Oa9fnATi765O",
        "outputId": "8d1b09f5-6a49-4393-f21f-7be991351087"
      },
      "source": [
        "num=int(input(\"enter the number \"))\r\n",
        "n1=0\r\n",
        "n2=1\r\n",
        "sum=0\r\n",
        "if num==1:\r\n",
        "  print(\"the fibnnoci series \")\r\n",
        "else:\r\n",
        "  print(\"fobnnoci series\")\r\n",
        "  while sum<num:\r\n",
        "    print(n1)\r\n",
        "    nth=n1+n2\r\n",
        "    n1=n2\r\n",
        "    n2=nth\r\n",
        "    sum+=1"
      ],
      "execution_count": 16,
      "outputs": [
        {
          "output_type": "stream",
          "text": [
            "enter the number 4\n",
            "fobnnoci series\n",
            "0\n",
            "1\n",
            "1\n",
            "2\n"
          ],
          "name": "stdout"
        }
      ]
    },
    {
      "cell_type": "code",
      "metadata": {
        "id": "GQ-jgUGc_FFg"
      },
      "source": [
        "list1=[2,4,5,7,11,16]"
      ],
      "execution_count": 17,
      "outputs": []
    },
    {
      "cell_type": "code",
      "metadata": {
        "colab": {
          "base_uri": "https://localhost:8080/"
        },
        "id": "-DQzSaAVBMPl",
        "outputId": "fc828509-56c7-46c6-88e1-a7bfc4efd872"
      },
      "source": [
        "print(list1)"
      ],
      "execution_count": 18,
      "outputs": [
        {
          "output_type": "stream",
          "text": [
            "[2, 4, 5, 7, 11, 16]\n"
          ],
          "name": "stdout"
        }
      ]
    },
    {
      "cell_type": "code",
      "metadata": {
        "colab": {
          "base_uri": "https://localhost:8080/"
        },
        "id": "dtsv35aGBOk-",
        "outputId": "59d1ef02-debc-4ef8-82f3-00b28e1f5910"
      },
      "source": [
        "for num in list1:\r\n",
        "  if num%2==0:\r\n",
        "    print(num, end=\" \")"
      ],
      "execution_count": 22,
      "outputs": [
        {
          "output_type": "stream",
          "text": [
            "2 4 16 "
          ],
          "name": "stdout"
        }
      ]
    },
    {
      "cell_type": "code",
      "metadata": {
        "colab": {
          "base_uri": "https://localhost:8080/"
        },
        "id": "OXiXELklBa5U",
        "outputId": "3f0f3b88-9a82-4ad7-c089-68f7ffb58898"
      },
      "source": [
        "for num in list1:\r\n",
        "  if num%2!=0:\r\n",
        "    print(num, end=\" \")"
      ],
      "execution_count": 26,
      "outputs": [
        {
          "output_type": "stream",
          "text": [
            "5 7 11 "
          ],
          "name": "stdout"
        }
      ]
    },
    {
      "cell_type": "code",
      "metadata": {
        "colab": {
          "base_uri": "https://localhost:8080/"
        },
        "id": "BbmirnMkB-Fj",
        "outputId": "4c93de82-22b0-47ce-ee14-6d9330e1c45e"
      },
      "source": [
        "start, end=4,19\r\n",
        "for num in range(start, end+1):\r\n",
        "  if num%2==0:\r\n",
        "    print(num, end=\" \")"
      ],
      "execution_count": 24,
      "outputs": [
        {
          "output_type": "stream",
          "text": [
            "4 6 8 10 12 14 16 18 "
          ],
          "name": "stdout"
        }
      ]
    },
    {
      "cell_type": "code",
      "metadata": {
        "colab": {
          "base_uri": "https://localhost:8080/"
        },
        "id": "j9MB1sNsOaQD",
        "outputId": "37f129ed-ce75-47d7-ba21-51be4d925ae2"
      },
      "source": [
        "start=int(input(\" Enter the number:\"))\r\n",
        "end=int(input(\"enter the limit:\"))\r\n",
        "for n in range(start, end+1):\r\n",
        "  if n%2==0:\r\n",
        "    print(n, end=\" \")"
      ],
      "execution_count": 25,
      "outputs": [
        {
          "output_type": "stream",
          "text": [
            " Enter the number:4\n",
            "enter the limit:100\n",
            "4 6 8 10 12 14 16 18 20 22 24 26 28 30 32 34 36 38 40 42 44 46 48 50 52 54 56 58 60 62 64 66 68 70 72 74 76 78 80 82 84 86 88 90 92 94 96 98 100 "
          ],
          "name": "stdout"
        }
      ]
    },
    {
      "cell_type": "code",
      "metadata": {
        "colab": {
          "base_uri": "https://localhost:8080/"
        },
        "id": "_XxC0jbnOytM",
        "outputId": "8172f7f0-6493-41f4-8171-0a67c717c1ed"
      },
      "source": [
        "s=10\r\n",
        "m=20\r\n",
        "for n in range(s, m+1):\r\n",
        "  if n%2!=0:\r\n",
        "    print(n, end=\" \")"
      ],
      "execution_count": 27,
      "outputs": [
        {
          "output_type": "stream",
          "text": [
            "11 13 15 17 19 "
          ],
          "name": "stdout"
        }
      ]
    },
    {
      "cell_type": "code",
      "metadata": {
        "id": "3Wcm4Kz0PQL0"
      },
      "source": [
        ""
      ],
      "execution_count": null,
      "outputs": []
    }
  ]
}