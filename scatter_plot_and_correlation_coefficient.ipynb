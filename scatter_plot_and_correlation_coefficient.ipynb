{
  "nbformat": 4,
  "nbformat_minor": 0,
  "metadata": {
    "colab": {
      "name": "scatter-plot and correlation coefficient.ipynb",
      "provenance": [],
      "collapsed_sections": []
    },
    "kernelspec": {
      "name": "python3",
      "display_name": "Python 3"
    }
  },
  "cells": [
    {
      "cell_type": "code",
      "metadata": {
        "id": "ehYNdjKyMUBz"
      },
      "source": [
        "import pandas as pd\r\n",
        "import numpy as np\r\n",
        "import matplotlib.pyplot as plt\r\n",
        "import seaborn as sns"
      ],
      "execution_count": 1,
      "outputs": []
    },
    {
      "cell_type": "code",
      "metadata": {
        "colab": {
          "base_uri": "https://localhost:8080/",
          "height": 191
        },
        "id": "H_srn3dRMe8h",
        "outputId": "fbfce5cc-12ff-4595-bdcd-9c549c4b3631"
      },
      "source": [
        "url='https://raw.githubusercontent.com/Jurk06/database-from-local-drive/main/bi-variante%20-%20Sheet1.csv'\r\n",
        "df=pd.read_csv(url)\r\n",
        "df.head()"
      ],
      "execution_count": 2,
      "outputs": [
        {
          "output_type": "execute_result",
          "data": {
            "text/html": [
              "<div>\n",
              "<style scoped>\n",
              "    .dataframe tbody tr th:only-of-type {\n",
              "        vertical-align: middle;\n",
              "    }\n",
              "\n",
              "    .dataframe tbody tr th {\n",
              "        vertical-align: top;\n",
              "    }\n",
              "\n",
              "    .dataframe thead th {\n",
              "        text-align: right;\n",
              "    }\n",
              "</style>\n",
              "<table border=\"1\" class=\"dataframe\">\n",
              "  <thead>\n",
              "    <tr style=\"text-align: right;\">\n",
              "      <th></th>\n",
              "      <th>in college test(x)</th>\n",
              "      <th>in university examnation(y)</th>\n",
              "    </tr>\n",
              "  </thead>\n",
              "  <tbody>\n",
              "    <tr>\n",
              "      <th>0</th>\n",
              "      <td>183</td>\n",
              "      <td>433</td>\n",
              "    </tr>\n",
              "    <tr>\n",
              "      <th>1</th>\n",
              "      <td>175</td>\n",
              "      <td>393</td>\n",
              "    </tr>\n",
              "    <tr>\n",
              "      <th>2</th>\n",
              "      <td>134</td>\n",
              "      <td>270</td>\n",
              "    </tr>\n",
              "    <tr>\n",
              "      <th>3</th>\n",
              "      <td>170</td>\n",
              "      <td>364</td>\n",
              "    </tr>\n",
              "    <tr>\n",
              "      <th>4</th>\n",
              "      <td>183</td>\n",
              "      <td>399</td>\n",
              "    </tr>\n",
              "  </tbody>\n",
              "</table>\n",
              "</div>"
            ],
            "text/plain": [
              "   in college test(x)  in university examnation(y)\n",
              "0                 183                          433\n",
              "1                 175                          393\n",
              "2                 134                          270\n",
              "3                 170                          364\n",
              "4                 183                          399"
            ]
          },
          "metadata": {
            "tags": []
          },
          "execution_count": 2
        }
      ]
    },
    {
      "cell_type": "code",
      "metadata": {
        "colab": {
          "base_uri": "https://localhost:8080/",
          "height": 0
        },
        "id": "Z46qb73FM9rk",
        "outputId": "d2df12d2-7f07-417c-f656-d220cabebee6"
      },
      "source": [
        "df.sum()"
      ],
      "execution_count": 53,
      "outputs": [
        {
          "output_type": "execute_result",
          "data": {
            "text/plain": [
              "in college test(x)                2993\n",
              "in university examnation(y)       7004\n",
              "x^2                               2985\n",
              "y^2                               6996\n",
              "x*y                            1065613\n",
              "dtype: int64"
            ]
          },
          "metadata": {
            "tags": []
          },
          "execution_count": 53
        }
      ]
    },
    {
      "cell_type": "code",
      "metadata": {
        "id": "iTsjk8wbMles"
      },
      "source": [
        "df['x^2']=(df['in college test(x)'])^2\r\n",
        "df['y^2']=(df['in university examnation(y)'])^2\r\n",
        "df['x*y']=df['in university examnation(y)']*df['in college test(x)']"
      ],
      "execution_count": 3,
      "outputs": []
    },
    {
      "cell_type": "code",
      "metadata": {
        "colab": {
          "base_uri": "https://localhost:8080/",
          "height": 0
        },
        "id": "-KQBLRvrM-3I",
        "outputId": "07d7041a-ed38-4228-d68c-b58cb21dc683"
      },
      "source": [
        "df.mean()"
      ],
      "execution_count": 54,
      "outputs": [
        {
          "output_type": "execute_result",
          "data": {
            "text/plain": [
              "in college test(x)               149.65\n",
              "in university examnation(y)      350.20\n",
              "x^2                              149.25\n",
              "y^2                              349.80\n",
              "x*y                            53280.65\n",
              "dtype: float64"
            ]
          },
          "metadata": {
            "tags": []
          },
          "execution_count": 54
        }
      ]
    },
    {
      "cell_type": "markdown",
      "metadata": {
        "id": "82NkBS-VgdaF"
      },
      "source": [
        "# Scatter Plot of data  "
      ]
    },
    {
      "cell_type": "code",
      "metadata": {
        "colab": {
          "base_uri": "https://localhost:8080/",
          "height": 497
        },
        "id": "O0367KpFNR8s",
        "outputId": "a90c62cb-92fc-478d-a591-26583a5bd3d3"
      },
      "source": [
        "plt.figure(figsize=(10,8))\r\n",
        "sns.scatterplot(data=df, x=\"in college test(x)\", y=\"in university examnation(y)\")\r\n",
        "plt.show()"
      ],
      "execution_count": 23,
      "outputs": [
        {
          "output_type": "display_data",
          "data": {
            "image/png": "[encoded data removed]",
            "text/plain": [
              "<Figure size 720x576 with 1 Axes>"
            ]
          },
          "metadata": {
            "tags": [],
            "needs_background": "light"
          }
        }
      ]
    },
    {
      "cell_type": "markdown",
      "metadata": {
        "id": "KdZUIPB8gnoP"
      },
      "source": [
        "# Ploting the best fit of straight line with in the scatter plot"
      ]
    },
    {
      "cell_type": "code",
      "metadata": {
        "id": "iA2BNoETQ7C-"
      },
      "source": [
        "def best_fit(x,y):\r\n",
        "  xbar=sum(x)/len(x)\r\n",
        "  ybar=sum(y)/len(y)\r\n",
        "  n=len(x)\r\n",
        "\r\n",
        "  numr=sum([xi*yi for xi,yi in zip(x,y)])-n*xbar*ybar\r\n",
        "  denum=sum([xi**2 for xi in x])-n*xbar**2\r\n",
        "\r\n",
        "  b=numr/denum\r\n",
        "  a=ybar-b*xbar\r\n",
        "\r\n",
        "  print(\"Best fit line \".format(a,b))\r\n",
        "\r\n",
        "  return a,b\r\n"
      ],
      "execution_count": 24,
      "outputs": []
    },
    {
      "cell_type": "code",
      "metadata": {
        "colab": {
          "base_uri": "https://localhost:8080/",
          "height": 0
        },
        "id": "c75PyJRRUYfQ",
        "outputId": "b3a5bb7c-0793-4c58-a85f-d0c67e51d355"
      },
      "source": [
        "a,b=best_fit(df['in college test(x)'],df['in university examnation(y)'])\r\n"
      ],
      "execution_count": 25,
      "outputs": [
        {
          "output_type": "stream",
          "text": [
            "Best fit line \n"
          ],
          "name": "stdout"
        }
      ]
    },
    {
      "cell_type": "code",
      "metadata": {
        "colab": {
          "base_uri": "https://localhost:8080/",
          "height": 606
        },
        "id": "V2Ta596_VQiv",
        "outputId": "d2bc748f-d13f-43ae-c853-af667b38435a"
      },
      "source": [
        "plt.figure(figsize=(10,10))\r\n",
        "plt.scatter(df['in college test(x)'],df['in university examnation(y)'])\r\n",
        "yfit=[a+b*xi for xi in df['in college test(x)']]\r\n",
        "plt.plot(df['in college test(x)'], yfit)\r\n",
        "plt.xlabel(\"in college test\")\r\n",
        "plt.ylabel(\"in university examnation\")\r\n",
        "plt.show()"
      ],
      "execution_count": 59,
      "outputs": [
        {
          "output_type": "display_data",
          "data": {
            "image/png": "[encoded data removed]",
            "text/plain": [
              "<Figure size 720x720 with 1 Axes>"
            ]
          },
          "metadata": {
            "tags": [],
            "needs_background": "light"
          }
        }
      ]
    },
    {
      "cell_type": "code",
      "metadata": {
        "id": "u96nF2K9ip2l"
      },
      "source": [
        ""
      ],
      "execution_count": null,
      "outputs": []
    },
    {
      "cell_type": "code",
      "metadata": {
        "id": "IU09LTbqiphj"
      },
      "source": [
        ""
      ],
      "execution_count": null,
      "outputs": []
    },
    {
      "cell_type": "code",
      "metadata": {
        "id": "2iSrJRJJX-5F"
      },
      "source": [
        "x=df['in college test(x)']\r\n",
        "y=df['in university examnation(y)']"
      ],
      "execution_count": 38,
      "outputs": []
    },
    {
      "cell_type": "markdown",
      "metadata": {
        "id": "eh1ucxV_hCqE"
      },
      "source": [
        "# Calculation of Correlation coefficients"
      ]
    },
    {
      "cell_type": "code",
      "metadata": {
        "colab": {
          "base_uri": "https://localhost:8080/",
          "height": 0
        },
        "id": "WMAiwL_uYHhz",
        "outputId": "004594ad-52cf-4600-9c78-6d5407ac4220"
      },
      "source": [
        "covariance=np.corrcoef(x,y)\r\n",
        "print(covariance)"
      ],
      "execution_count": 40,
      "outputs": [
        {
          "output_type": "stream",
          "text": [
            "[[1.         0.72672642]\n",
            " [0.72672642 1.        ]]\n"
          ],
          "name": "stdout"
        }
      ]
    },
    {
      "cell_type": "code",
      "metadata": {
        "colab": {
          "base_uri": "https://localhost:8080/",
          "height": 0
        },
        "id": "COUiS62fcFg0",
        "outputId": "0dacabc0-2b05-4e08-c357-19737e6c0d7c"
      },
      "source": [
        "covariance[0,1]"
      ],
      "execution_count": 41,
      "outputs": [
        {
          "output_type": "execute_result",
          "data": {
            "text/plain": [
              "0.7267264205567627"
            ]
          },
          "metadata": {
            "tags": []
          },
          "execution_count": 41
        }
      ]
    },
    {
      "cell_type": "code",
      "metadata": {
        "id": "O2ICXrX1cbqr"
      },
      "source": [
        "r=covariance[1,0]"
      ],
      "execution_count": 46,
      "outputs": []
    },
    {
      "cell_type": "code",
      "metadata": {
        "colab": {
          "base_uri": "https://localhost:8080/",
          "height": 0
        },
        "id": "xu35hGHJcdkC",
        "outputId": "0a9e99da-86c5-4903-da60-071f8b7e8952"
      },
      "source": [
        "print(r**2)"
      ],
      "execution_count": 47,
      "outputs": [
        {
          "output_type": "stream",
          "text": [
            "0.5281312903352448\n"
          ],
          "name": "stdout"
        }
      ]
    },
    {
      "cell_type": "code",
      "metadata": {
        "id": "khmkGFfYckQ_"
      },
      "source": [
        "import scipy.stats"
      ],
      "execution_count": 48,
      "outputs": []
    },
    {
      "cell_type": "code",
      "metadata": {
        "colab": {
          "base_uri": "https://localhost:8080/",
          "height": 0
        },
        "id": "0AFKeJKYeXBp",
        "outputId": "5d535524-af39-4613-ad73-61aae4424896"
      },
      "source": [
        "scipy.stats.pearsonr(x,y)"
      ],
      "execution_count": 49,
      "outputs": [
        {
          "output_type": "execute_result",
          "data": {
            "text/plain": [
              "(0.7267264205567626, 0.0002841462506847231)"
            ]
          },
          "metadata": {
            "tags": []
          },
          "execution_count": 49
        }
      ]
    },
    {
      "cell_type": "code",
      "metadata": {
        "colab": {
          "base_uri": "https://localhost:8080/",
          "height": 0
        },
        "id": "B-6yrFwkehIG",
        "outputId": "ba002e2b-305f-450d-a2d2-c091dc7adb50"
      },
      "source": [
        "scipy.stats.spearmanr(x,y)"
      ],
      "execution_count": 50,
      "outputs": [
        {
          "output_type": "execute_result",
          "data": {
            "text/plain": [
              "SpearmanrResult(correlation=0.6925403494868252, pvalue=0.0007137969284719104)"
            ]
          },
          "metadata": {
            "tags": []
          },
          "execution_count": 50
        }
      ]
    },
    {
      "cell_type": "code",
      "metadata": {
        "colab": {
          "base_uri": "https://localhost:8080/",
          "height": 0
        },
        "id": "IDBWymEVeotw",
        "outputId": "70e59747-327c-4dde-ae22-e4e41458c3ef"
      },
      "source": [
        ""
      ],
      "execution_count": 51,
      "outputs": [
        {
          "output_type": "execute_result",
          "data": {
            "text/plain": [
              "in college test(x)               149.65\n",
              "in university examnation(y)      350.20\n",
              "x^2                              149.25\n",
              "y^2                              349.80\n",
              "x*y                            53280.65\n",
              "dtype: float64"
            ]
          },
          "metadata": {
            "tags": []
          },
          "execution_count": 51
        }
      ]
    },
    {
      "cell_type": "code",
      "metadata": {
        "colab": {
          "base_uri": "https://localhost:8080/",
          "height": 0
        },
        "id": "3fInY0aEf5xO",
        "outputId": "4cf0da9b-83ef-4f28-96a7-a76d6eb9056f"
      },
      "source": [
        ""
      ],
      "execution_count": 52,
      "outputs": [
        {
          "output_type": "execute_result",
          "data": {
            "text/plain": [
              "in college test(x)                2993\n",
              "in university examnation(y)       7004\n",
              "x^2                               2985\n",
              "y^2                               6996\n",
              "x*y                            1065613\n",
              "dtype: int64"
            ]
          },
          "metadata": {
            "tags": []
          },
          "execution_count": 52
        }
      ]
    },
    {
      "cell_type": "code",
      "metadata": {
        "id": "8eCMgGFHf8Cm"
      },
      "source": [
        ""
      ],
      "execution_count": null,
      "outputs": []
    }
  ]
}